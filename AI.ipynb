{
  "nbformat": 4,
  "nbformat_minor": 0,
  "metadata": {
    "colab": {
      "provenance": [],
      "toc_visible": true,
      "authorship_tag": "ABX9TyPWKjyusYctVBUwwbO0Y67/",
      "include_colab_link": true
    },
    "kernelspec": {
      "name": "python3",
      "display_name": "Python 3"
    },
    "language_info": {
      "name": "python"
    }
  },
  "cells": [
    {
      "cell_type": "markdown",
      "metadata": {
        "id": "view-in-github",
        "colab_type": "text"
      },
      "source": [
        "<a href=\"https://colab.research.google.com/github/subhiksha9/AI-LAB/blob/main/AI.ipynb\" target=\"_parent\"><img src=\"https://colab.research.google.com/assets/colab-badge.svg\" alt=\"Open In Colab\"/></a>"
      ]
    },
    {
      "cell_type": "markdown",
      "source": [
        "# BFS"
      ],
      "metadata": {
        "id": "K5hRSXzK6Jyb"
      }
    },
    {
      "cell_type": "code",
      "execution_count": null,
      "metadata": {
        "colab": {
          "base_uri": "https://localhost:8080/"
        },
        "id": "_2Nx9Jbj5cNG",
        "outputId": "d457b516-d16c-452d-fac8-e5dd5d271d1b"
      },
      "outputs": [
        {
          "output_type": "stream",
          "name": "stdout",
          "text": [
            "enter n:6\n",
            "enter k:1\n",
            "enter elements:2 3\n",
            "enter k:2\n",
            "enter elements:\n",
            "enter k:3\n",
            "enter elements:4 5 6\n",
            "enter k:4\n",
            "enter elements:\n",
            "enter k:5\n",
            "enter elements:\n",
            "enter k:6\n",
            "enter elements:\n",
            "{'1': ['2', '3'], '2': [''], '3': ['4', '5', '6'], '4': [''], '5': [''], '6': ['']}\n"
          ]
        }
      ],
      "source": [
        "d={}\n",
        "n=int(input(\"enter n:\"))\n",
        "for i in range(n):\n",
        "  k=input(\"enter k:\")\n",
        "  d[k]=[x for x in input(\"enter elements:\").split(\" \")]\n",
        "print(d)"
      ]
    },
    {
      "cell_type": "code",
      "source": [
        "def bfs(d,snode,v,q,gnode):\n",
        "    q.append(snode)\n",
        "    count=0\n",
        "    while q:\n",
        "      r=q.pop(0)\n",
        "      v.append(r)\n",
        "      if r==gnode:\n",
        "        break\n",
        "      else:\n",
        "        for i in d[r]:\n",
        "          if i not in v and i not in q:\n",
        "            if i==gnode:\n",
        "              v.append(i)\n",
        "              count=count+1\n",
        "            else:\n",
        "              q.append(i)\n",
        "        if count==1:\n",
        "           break"
      ],
      "metadata": {
        "id": "flPCowMN7Cv9"
      },
      "execution_count": null,
      "outputs": []
    },
    {
      "cell_type": "code",
      "source": [
        "snode=input(\"enter start node:\")\n",
        "gnode=input(\"enter goal node:\")\n",
        "v=[]\n",
        "q=[]\n",
        "bfs(d,snode,v,q,gnode)"
      ],
      "metadata": {
        "colab": {
          "base_uri": "https://localhost:8080/"
        },
        "id": "IBbXFjhU7IhL",
        "outputId": "d74be7d8-2b40-490d-83fd-dbf151b06183"
      },
      "execution_count": null,
      "outputs": [
        {
          "name": "stdout",
          "output_type": "stream",
          "text": [
            "enter start node:1\n",
            "enter goal node:6\n"
          ]
        }
      ]
    },
    {
      "cell_type": "code",
      "source": [
        "if q==[]:\n",
        "  print(\"goal state not reached\")\n",
        "else:\n",
        "  for i in v:\n",
        "    print(i,\"->\",end=\" \")\n",
        "  print(\"the goal state is reached\")"
      ],
      "metadata": {
        "colab": {
          "base_uri": "https://localhost:8080/"
        },
        "id": "zQ3jp1mg7JKD",
        "outputId": "49097004-0b1e-4967-ab21-05801d1f40b0"
      },
      "execution_count": null,
      "outputs": [
        {
          "output_type": "stream",
          "name": "stdout",
          "text": [
            "1 -> 2 -> 3 -> 6 -> the goal state is reached\n"
          ]
        }
      ]
    },
    {
      "cell_type": "markdown",
      "source": [
        "# DFS"
      ],
      "metadata": {
        "id": "GJtyyD9k7N8o"
      }
    },
    {
      "cell_type": "code",
      "source": [
        "d={}\n",
        "n=int(input(\"enter n:\"))\n",
        "for i in range(n):\n",
        "  k=input(\"enter k:\")\n",
        "  d[k]=[x for x in input(\"enter elements:\").split(\" \")]\n",
        "print(d)"
      ],
      "metadata": {
        "colab": {
          "base_uri": "https://localhost:8080/"
        },
        "id": "32Q-yjuX7M_E",
        "outputId": "17592a44-d97f-41f5-8d19-66e6d92b1ef4"
      },
      "execution_count": null,
      "outputs": [
        {
          "output_type": "stream",
          "name": "stdout",
          "text": [
            "enter n:6\n",
            "enter k:1\n",
            "enter elements:2 3\n",
            "enter k:2\n",
            "enter elements:\n",
            "enter k:3\n",
            "enter elements:4 5 6\n",
            "enter k:4\n",
            "enter elements:\n",
            "enter k:5\n",
            "enter elements:\n",
            "enter k:6\n",
            "enter elements:\n",
            "{'1': ['2', '3'], '2': [''], '3': ['4', '5', '6'], '4': [''], '5': [''], '6': ['']}\n"
          ]
        }
      ]
    },
    {
      "cell_type": "code",
      "source": [
        "def dfs(d,snode,v,q,gnode):\n",
        "    q.append(snode)\n",
        "    count=0\n",
        "    while q:\n",
        "      r=q.pop()\n",
        "      v.append(r)\n",
        "      if r==gnode:\n",
        "        break\n",
        "      else:\n",
        "        for i in d[r]:\n",
        "          if i not in v and i not in q:\n",
        "            if i==gnode:\n",
        "              v.append(i)\n",
        "              count=count+1\n",
        "            else:\n",
        "              q.append(i)\n",
        "        if count==1:\n",
        "           break"
      ],
      "metadata": {
        "id": "kMxJtOBA8pF7"
      },
      "execution_count": null,
      "outputs": []
    },
    {
      "cell_type": "code",
      "source": [
        "snode=input(\"enter start node:\")\n",
        "gnode=input(\"enter goal node:\")\n",
        "v=[]\n",
        "q=[]\n",
        "dfs(d,snode,v,q,gnode)"
      ],
      "metadata": {
        "colab": {
          "base_uri": "https://localhost:8080/"
        },
        "id": "ytTK9K2283HJ",
        "outputId": "ef7cec08-abfc-458d-ae9c-5695fddeec8d"
      },
      "execution_count": null,
      "outputs": [
        {
          "name": "stdout",
          "output_type": "stream",
          "text": [
            "enter start node:1\n",
            "enter goal node:6\n"
          ]
        }
      ]
    },
    {
      "cell_type": "code",
      "source": [
        "if q==[]:\n",
        "  print(\"goal state not reached\")\n",
        "else:\n",
        "  for i in v:\n",
        "    print(i,\"->\",end=\" \")\n",
        "  print(\"the goal state is reached\")"
      ],
      "metadata": {
        "colab": {
          "base_uri": "https://localhost:8080/"
        },
        "id": "yKlzfOfJ87A8",
        "outputId": "e963147f-513f-4e78-8b1c-2719335626b7"
      },
      "execution_count": null,
      "outputs": [
        {
          "output_type": "stream",
          "name": "stdout",
          "text": [
            "1 -> 3 -> 6 -> the goal state is reached\n"
          ]
        }
      ]
    },
    {
      "cell_type": "markdown",
      "source": [
        "# Uniform Cost Search"
      ],
      "metadata": {
        "id": "HH3sulTHA-uv"
      }
    },
    {
      "cell_type": "code",
      "source": [
        "n=int(input(\"Enter number of cities\"))\n",
        "c=[]\n",
        "for i in range(n):\n",
        "    print(\"Enter the cost to travel to \",i,\":\")\n",
        "    l=[int(x) for x in input().split()]\n",
        "    c.append(l)"
      ],
      "metadata": {
        "colab": {
          "base_uri": "https://localhost:8080/"
        },
        "id": "rBRP0Hkr8-sU",
        "outputId": "e310d65c-eb02-46d3-9eeb-78d980ee8831"
      },
      "execution_count": null,
      "outputs": [
        {
          "name": "stdout",
          "output_type": "stream",
          "text": [
            "Enter number of cities5\n",
            "Enter the cost to travel to  0 :\n",
            "0 80 99 0 0\n",
            "Enter the cost to travel to  1 :\n",
            "80 0 0 97 0\n",
            "Enter the cost to travel to  2 :\n",
            "99 0 0 0 211\n",
            "Enter the cost to travel to  3 :\n",
            "0 97 0 0 101\n",
            "Enter the cost to travel to  4 :\n",
            "0 0 211 101 0\n"
          ]
        }
      ]
    },
    {
      "cell_type": "code",
      "source": [
        "city=['sibiu','riminicu','fagaras','pitesi','bucharest']"
      ],
      "metadata": {
        "id": "cbVf3vQ8CuCz"
      },
      "execution_count": null,
      "outputs": []
    },
    {
      "cell_type": "code",
      "source": [
        "def sort(queue,cost,visited):\n",
        "    cost=sorted(cost.items(),key=lambda x:x[1])\n",
        "    cost=dict(cost)\n",
        "    queue=[]\n",
        "    for i in cost.keys():\n",
        "        if city.index(i) not in visited:\n",
        "            queue.append(city.index(i))\n",
        "    return queue"
      ],
      "metadata": {
        "id": "cYucfCwuDL6-"
      },
      "execution_count": null,
      "outputs": []
    },
    {
      "cell_type": "code",
      "source": [
        "def ucs(c,initial,goal,n):\n",
        "    queue=[initial]\n",
        "    cost={city[initial]:0}\n",
        "    visited=[]\n",
        "    while True:\n",
        "        if len(queue)==0:\n",
        "            return visited\n",
        "        if goal in visited:\n",
        "            return cost[city[goal]]\n",
        "        else:\n",
        "            queue=sort(queue,cost,visited)\n",
        "            s=queue[0]\n",
        "            k=cost[city[s]]\n",
        "            for i in range(n):\n",
        "                if c[s][i]!=0:\n",
        "                    if i not in queue and i not in visited:\n",
        "                        queue.append(i)\n",
        "                        cost[city[i]]=k+c[s][i]\n",
        "                    else:\n",
        "                        if i in queue:\n",
        "                            cost[city[i]]=min(cost[city[i]],k+c[s][i])\n",
        "            visited.append(s)"
      ],
      "metadata": {
        "id": "tUHOeUiUDx3e"
      },
      "execution_count": null,
      "outputs": []
    },
    {
      "cell_type": "code",
      "source": [
        "l=ucs(c,0,4,n)\n",
        "print(\"cost:\",l)"
      ],
      "metadata": {
        "colab": {
          "base_uri": "https://localhost:8080/"
        },
        "id": "DWIZS55YEg3t",
        "outputId": "a3ce6b51-137f-436a-8e4d-2379d2a5c442"
      },
      "execution_count": null,
      "outputs": [
        {
          "output_type": "stream",
          "name": "stdout",
          "text": [
            "cost: 278\n"
          ]
        }
      ]
    },
    {
      "cell_type": "markdown",
      "source": [
        "# Depth First Iterative Deepening"
      ],
      "metadata": {
        "id": "-Rc6tE-iEkQV"
      }
    },
    {
      "cell_type": "code",
      "source": [
        "ini=int(input(\"enter initial state:\"))\n",
        "goal=int(input(\"enter goal state:\"))\n",
        "dep=int(input(\"enter depth:\"))\n",
        "gra={1:[2,5],2:[3,4],3:[8,9],5:[6,7],7:[10,11]}\n",
        "def DLS(ini,goal,gra,dep):\n",
        "  vis=[]\n",
        "  que=[ini]\n",
        "  check=[0]\n",
        "  while len(que)!=0:\n",
        "    f=que.pop()\n",
        "    print(f,end=\"\")\n",
        "    p=check.pop()\n",
        "    if f not in vis:\n",
        "      if f==goal:\n",
        "        vis.append(f)\n",
        "\n",
        "        print(\"Target found!\")\n",
        "        return 1\n",
        "      vis.append(f)\n",
        "\n",
        "    if p+1>dep:\n",
        "      continue\n",
        "    for j in gra[f]:\n",
        "      if j not in vis:\n",
        "        que.append(j)\n",
        "        check.append(p+1)\n",
        "  return 0\n",
        "\n",
        "\n",
        "def iddfs(ini,goal,gra,dep):\n",
        "  for i in range(dep+1):\n",
        "    print('depth',i)\n",
        "    if DLS(ini,goal,gra,i):\n",
        "      break\n",
        "    print()\n",
        "iddfs(ini,goal,gra,dep)"
      ],
      "metadata": {
        "colab": {
          "base_uri": "https://localhost:8080/"
        },
        "id": "AeJZNPzgw0lq",
        "outputId": "ef170649-e1cc-4840-c0a8-0b993ec0fb93"
      },
      "execution_count": null,
      "outputs": [
        {
          "output_type": "stream",
          "name": "stdout",
          "text": [
            "enter initial state:1\n",
            "enter goal state:6\n",
            "enter depth:2\n",
            "depth 0\n",
            "1\n",
            "depth 1\n",
            "152\n",
            "depth 2\n",
            "1576Target found!\n"
          ]
        }
      ]
    },
    {
      "cell_type": "markdown",
      "source": [
        "# Bidirectional"
      ],
      "metadata": {
        "id": "0jXwxVE7xTsC"
      }
    },
    {
      "cell_type": "code",
      "source": [
        "ini=int(input(\"enter initial state\"))\n",
        "goal=int(input(\"enter goal state:\"))\n",
        "gra={1:[2,3],2:[1,4],3:[1,5],4:[2,5],5:[3,4,6],6:[5]}\n",
        "def bfs(ini,goal,gra):\n",
        "  que1=[]\n",
        "  que2=[]\n",
        "  vis1=[]\n",
        "  vis2=[]\n",
        "  que1.append(ini)\n",
        "  que2.append(goal)\n",
        "  while len(que1)!=0 or len(que2)!=0:\n",
        "    j=que1.pop()\n",
        "    m=que2.pop()\n",
        "    if j in vis2 or m in vis1:\n",
        "      break\n",
        "    if j not in vis1:\n",
        "      vis1.append(j)\n",
        "      #print(vis1)\n",
        "    if m not in vis2:\n",
        "      vis2.append(m)\n",
        "      #print(vis2)\n",
        "    for i in gra[j]:\n",
        "      if i not in vis1:\n",
        "        que1.append(i)\n",
        "    for n in gra[m]:\n",
        "      if n not in vis2:\n",
        "        que2.append(n)\n",
        "  #vis2.pop()\n",
        "  p=set(vis1+(vis2[::-1]))\n",
        "  return list(p)\n",
        "\n",
        "l=bfs(ini,goal,gra)\n",
        "print(l)"
      ],
      "metadata": {
        "colab": {
          "base_uri": "https://localhost:8080/"
        },
        "id": "aRVDtig9w4-H",
        "outputId": "8e45d7ac-2025-465c-fcc6-a24eabf935a9"
      },
      "execution_count": null,
      "outputs": [
        {
          "output_type": "stream",
          "name": "stdout",
          "text": [
            "enter initial state1\n",
            "enter goal state:6\n",
            "[1, 3, 5, 6]\n"
          ]
        }
      ]
    },
    {
      "cell_type": "markdown",
      "source": [
        "# Water jug using bfs"
      ],
      "metadata": {
        "id": "a8zbnjVPxgzM"
      }
    },
    {
      "cell_type": "code",
      "source": [
        "m=int(input(\"Enter capacity of First jug\"))\n",
        "n=int(input(\"Enter capacity of Second jug\"))\n",
        "g=int(input(\"Enter goal state\"))\n",
        "def display():\n",
        "  print(\"1:fill first jug\")\n",
        "  print(\"2.Empty first jug\")\n",
        "  print(\"3.fill second jug\")\n",
        "  print(\"4.Empty second jug\")\n",
        "  print(\"5.pour from second jug to first jug\")\n",
        "  print(\"6.pour from first jug to second jug\")\n",
        "  print(\"7.pour from second jug to first jug until it becomes full\")\n",
        "  print(\"8.pour from first jug to second jug until it becomes full\")\n",
        "def apply(rule,x,y):\n",
        "  if rule==1:\n",
        "    if x<m:\n",
        "      x=m\n",
        "  elif rule==2:\n",
        "    if x>0:\n",
        "      x=0\n",
        "  elif rule==3:\n",
        "    if y<n:\n",
        "      y=n\n",
        "  elif rule==4:\n",
        "    if y>0:\n",
        "      y=0\n",
        "  elif rule==5:\n",
        "    if x+y<=m and y>0:\n",
        "      x=x+y\n",
        "      y=0\n",
        "  elif rule==6:\n",
        "    if x+y<=n and x>0:\n",
        "      y=x+y\n",
        "      x=0\n",
        "  elif rule==7:\n",
        "    if x+y>=m and y>0:\n",
        "      x=m\n",
        "      y=y-(m-x)\n",
        "  elif rule==8:\n",
        "    if x+y>=n and x>0:\n",
        "      x=x-(n-y)\n",
        "      y=n\n",
        "  return x,y\n",
        "def bfs(m,n,g,x,y):\n",
        "  if x==g or y==g:\n",
        "    print(\"Goal state is reached\")\n",
        "    return (x,y)\n",
        "  queue=[[x,y]]\n",
        "  visited=[]\n",
        "  while True:\n",
        "    p,q=queue[0]\n",
        "    visited.append([p,q])\n",
        "    queue.pop(0)\n",
        "    for i in range(1,9):\n",
        "      r,s=apply(i,p,q)\n",
        "      if [r,s] not in visited and [r,s] not in queue:\n",
        "        queue.append([r,s])\n",
        "      if r==g or s==g:\n",
        "        visited.append([r,s])\n",
        "        return visited\n",
        "x=0\n",
        "y=0\n",
        "l=bfs(m,n,g,x,y)\n",
        "print(l)"
      ],
      "metadata": {
        "colab": {
          "base_uri": "https://localhost:8080/"
        },
        "id": "BP1iJ2NGxjUe",
        "outputId": "41992650-ab35-44fa-992c-971f5411b37b"
      },
      "execution_count": null,
      "outputs": [
        {
          "output_type": "stream",
          "name": "stdout",
          "text": [
            "Enter capacity of First jug5\n",
            "Enter capacity of Second jug3\n",
            "Enter goal state4\n",
            "[[0, 0], [5, 0], [0, 3], [5, 3], [2, 3], [3, 0], [2, 0], [3, 3], [0, 2], [5, 2], [4, 3]]\n"
          ]
        }
      ]
    },
    {
      "cell_type": "markdown",
      "source": [
        "# Water jug using DFS"
      ],
      "metadata": {
        "id": "gPVaqzBEiIN8"
      }
    },
    {
      "cell_type": "code",
      "source": [
        "m=int(input(\"Enter capacity of First jug\"))\n",
        "n=int(input(\"Enter capacity of Second jug\"))\n",
        "g=int(input(\"Enter goal state\"))\n",
        "def display():\n",
        "  print(\"1:fill first jug\")\n",
        "  print(\"2.Empty first jug\")\n",
        "  print(\"3.fill second jug\")\n",
        "  print(\"4.Empty second jug\")\n",
        "  print(\"5.pour from second jug to first jug\")\n",
        "  print(\"6.pour from first jug to second jug\")\n",
        "  print(\"7.pour from second jug to first jug until it becomes full\")\n",
        "  print(\"8.pour from first jug to second jug until it becomes full\")\n",
        "def apply(rule,x,y):\n",
        "  if rule==1:\n",
        "    if x<m:\n",
        "      x=m\n",
        "  elif rule==2:\n",
        "    if x>0:\n",
        "      x=0\n",
        "  elif rule==3:\n",
        "    if y<n:\n",
        "      y=n\n",
        "  elif rule==4:\n",
        "    if y>0:\n",
        "      y=0\n",
        "  elif rule==5:\n",
        "    if x+y<=m and y>0:\n",
        "      x=x+y\n",
        "      y=0\n",
        "  elif rule==6:\n",
        "    if x+y<=n and x>0:\n",
        "      y=x+y\n",
        "      x=0\n",
        "  elif rule==7:\n",
        "    if x+y>=m and y>0:\n",
        "      x=m\n",
        "      y=y-(m-x)\n",
        "  elif rule==8:\n",
        "    if x+y>=n and x>0:\n",
        "      x=x-(n-y)\n",
        "      y=n\n",
        "  return x,y\n",
        "def dfs(m,n,g,x,y):\n",
        "  if x==g or y==g:\n",
        "    print(\"Goal state is reached\")\n",
        "    return (x,y)\n",
        "  queue=[[x,y]]\n",
        "  visited=[]\n",
        "  while True:\n",
        "    p,q=queue[-1]\n",
        "    visited.append([p,q])\n",
        "    queue.pop()\n",
        "    for i in range(1,9):\n",
        "      r,s=apply(i,p,q)\n",
        "      if [r,s] not in visited and [r,s] not in queue:\n",
        "        queue.append([r,s])\n",
        "      if r==g or s==g:\n",
        "        visited.append([r,s])\n",
        "        return visited\n",
        "x=0\n",
        "y=0\n",
        "l=dfs(m,n,g,x,y)\n",
        "print(l)"
      ],
      "metadata": {
        "colab": {
          "base_uri": "https://localhost:8080/"
        },
        "id": "VmhLu-DsiKY2",
        "outputId": "c8781a90-1ae5-49bc-8cf7-c0d1fc70f414"
      },
      "execution_count": null,
      "outputs": [
        {
          "output_type": "stream",
          "name": "stdout",
          "text": [
            "Enter capacity of First jug5\n",
            "Enter capacity of Second jug3\n",
            "Enter goal state4\n",
            "[[0, 0], [0, 3], [3, 0], [3, 3], [5, 3], [5, 0], [2, 3], [2, 0], [0, 2], [5, 2], [4, 3]]\n"
          ]
        }
      ]
    },
    {
      "cell_type": "markdown",
      "source": [
        "# Missionaries and Cannibals BFS\n"
      ],
      "metadata": {
        "id": "ng7B4IY0iYw-"
      }
    },
    {
      "cell_type": "code",
      "source": [
        "def accept(p):\n",
        "  i=0\n",
        "  while i<len(p):\n",
        "    bl=p[i][0]\n",
        "    br=p[i][1]\n",
        "    if (bl[0]<bl[1] and bl[0]!=0) or (br[0]<br[1] and br[0]!=0):\n",
        "      p.remove(p[i])\n",
        "    else:\n",
        "      i+=1\n",
        "  return p"
      ],
      "metadata": {
        "id": "0RhhTEYVRpwp"
      },
      "execution_count": null,
      "outputs": []
    },
    {
      "cell_type": "code",
      "source": [
        "def crossRiver(z,k):\n",
        "  x=z[k]\n",
        "  p=[]\n",
        "  if k==0:\n",
        "    if x[0]>=2:\n",
        "      v=[[x[0]-2,x[1]],[z[1][0]+2,z[1][1]]]\n",
        "      p.append(v)\n",
        "    if x[1]>=2:\n",
        "      v=[[x[0],x[1]-2],[z[1][0],z[1][1]+2]]\n",
        "      p.append(v)\n",
        "    if x[0]>=1 and x[1]>=1:\n",
        "      v=[[x[0]-1,x[1]-1],[z[1][0]+1,z[1][1]+1]]\n",
        "      p.append(v)\n",
        "    if x[0]>=1:\n",
        "      v=[[x[0]-1,x[1]],[z[1][0]+1,z[1][1]]]\n",
        "      p.append(v)\n",
        "    if x[1]>=1:\n",
        "      v=[[x[0],x[1]-1],[z[1][0],z[1][1]+1]]\n",
        "      p.append(v)\n",
        "  else:\n",
        "    if x[0]>=2:\n",
        "      v=[[z[0][0]+2,z[0][1]],[x[0]-2,x[1]]]\n",
        "      p.append(v)\n",
        "    if x[1]>=2:\n",
        "      v=[[z[0][0],z[0][1]+2],[x[0],x[1]-2]]\n",
        "      p.append(v)\n",
        "    if x[0]>=1 and x[1]>=1:\n",
        "      v=[[z[0][0]+1,z[0][1]+1],[x[0]-1,x[1]-1]]\n",
        "      p.append(v)\n",
        "    if x[0]>=1:\n",
        "      v=[[z[0][0]+1,z[0][1]],[x[0]-1,x[1]]]\n",
        "      p.append(v)\n",
        "    if x[1]>=1:\n",
        "      v=[[z[0][0],z[0][1]+1],[x[0],x[1]-1]]\n",
        "      p.append(v)\n",
        "  return accept(p)"
      ],
      "metadata": {
        "id": "e7adJTi0R9Zj"
      },
      "execution_count": null,
      "outputs": []
    },
    {
      "cell_type": "code",
      "source": [
        "def MandC():\n",
        "  f=[{0:[[3,3],[0,0]]}]\n",
        "  v=[{0:[[3,3],[0,0]]}]\n",
        "  parent=[-1]\n",
        "  z=f[0]\n",
        "  while 1:\n",
        "    k=list(z.keys())[0]\n",
        "    p=crossRiver(list(z.values())[0],k)\n",
        "    if k==0:\n",
        "      k=1\n",
        "    else:\n",
        "      k=0\n",
        "    for x in p:\n",
        "      c={k:x}\n",
        "      if c not in v:\n",
        "        f.append({k:x})\n",
        "        v.append({k:x})\n",
        "        parent.append(v.index(z))\n",
        "      if x==[[0,0],[3,3]]:\n",
        "        print(\"Goal reached\")\n",
        "        return v,parent\n",
        "    f.remove(z)\n",
        "    z=f[0]"
      ],
      "metadata": {
        "id": "ivYLdOgrSBAZ"
      },
      "execution_count": null,
      "outputs": []
    },
    {
      "cell_type": "code",
      "source": [
        "v,p=MandC()\n",
        "path=[v[-1]]\n",
        "u=p[-1]\n",
        "while 1:\n",
        "  path.insert(0,v[u])\n",
        "  u=p[u]\n",
        "  if u==-1:\n",
        "    break\n",
        "print(\"Intial state :\",path[0],\"Final state :\",path[-1])\n",
        "for i in range(1,len(path)):\n",
        "  if i%2!=0:\n",
        "    print(\"Left to Right : \",path[i-1][0],\"->\",path[i][1])\n",
        "  else:\n",
        "    print(\"Right to Left : \",path[i-1][1],\"->\",path[i][0])"
      ],
      "metadata": {
        "colab": {
          "base_uri": "https://localhost:8080/"
        },
        "id": "dWr6rwGXSOZV",
        "outputId": "09ec1fda-fdf6-4746-b0fd-8ef8a00b2457"
      },
      "execution_count": null,
      "outputs": [
        {
          "output_type": "stream",
          "name": "stdout",
          "text": [
            "Goal reached\n",
            "Intial state : {0: [[3, 3], [0, 0]]} Final state : {1: [[0, 0], [3, 3]]}\n",
            "Left to Right :  [[3, 3], [0, 0]] -> [[3, 1], [0, 2]]\n",
            "Right to Left :  [[3, 1], [0, 2]] -> [[3, 2], [0, 1]]\n",
            "Left to Right :  [[3, 2], [0, 1]] -> [[3, 0], [0, 3]]\n",
            "Right to Left :  [[3, 0], [0, 3]] -> [[3, 1], [0, 2]]\n",
            "Left to Right :  [[3, 1], [0, 2]] -> [[1, 1], [2, 2]]\n",
            "Right to Left :  [[1, 1], [2, 2]] -> [[2, 2], [1, 1]]\n",
            "Left to Right :  [[2, 2], [1, 1]] -> [[0, 2], [3, 1]]\n",
            "Right to Left :  [[0, 2], [3, 1]] -> [[0, 3], [3, 0]]\n",
            "Left to Right :  [[0, 3], [3, 0]] -> [[0, 1], [3, 2]]\n",
            "Right to Left :  [[0, 1], [3, 2]] -> [[1, 1], [2, 2]]\n",
            "Left to Right :  [[1, 1], [2, 2]] -> [[0, 0], [3, 3]]\n"
          ]
        }
      ]
    },
    {
      "cell_type": "markdown",
      "source": [
        "# Missionaries and Cannibals DFS"
      ],
      "metadata": {
        "id": "KuE8JJARi3uZ"
      }
    },
    {
      "cell_type": "code",
      "source": [
        "def accept(p):\n",
        "  i=0\n",
        "  while i<len(p):\n",
        "    bl=p[i][0]\n",
        "    br=p[i][1]\n",
        "    if (bl[0]<bl[1] and bl[0]!=0) or (br[0]<br[1] and br[0]!=0):\n",
        "      p.remove(p[i])\n",
        "    else:\n",
        "      i+=1\n",
        "  return p"
      ],
      "metadata": {
        "id": "e5Jwy9foiuih"
      },
      "execution_count": null,
      "outputs": []
    },
    {
      "cell_type": "code",
      "source": [
        "def crossRiver(z,k):\n",
        "  x=z[k]\n",
        "  p=[]\n",
        "  if k==0:\n",
        "    if x[0]>=2:\n",
        "      v=[[x[0]-2,x[1]],[z[1][0]+2,z[1][1]]]\n",
        "      p.append(v)\n",
        "    if x[1]>=2:\n",
        "      v=[[x[0],x[1]-2],[z[1][0],z[1][1]+2]]\n",
        "      p.append(v)\n",
        "    if x[0]>=1 and x[1]>=1:\n",
        "      v=[[x[0]-1,x[1]-1],[z[1][0]+1,z[1][1]+1]]\n",
        "      p.append(v)\n",
        "    if x[0]>=1:\n",
        "      v=[[x[0]-1,x[1]],[z[1][0]+1,z[1][1]]]\n",
        "      p.append(v)\n",
        "    if x[1]>=1:\n",
        "      v=[[x[0],x[1]-1],[z[1][0],z[1][1]+1]]\n",
        "      p.append(v)\n",
        "  else:\n",
        "    if x[0]>=2:\n",
        "      v=[[z[0][0]+2,z[0][1]],[x[0]-2,x[1]]]\n",
        "      p.append(v)\n",
        "    if x[1]>=2:\n",
        "      v=[[z[0][0],z[0][1]+2],[x[0],x[1]-2]]\n",
        "      p.append(v)\n",
        "    if x[0]>=1 and x[1]>=1:\n",
        "      v=[[z[0][0]+1,z[0][1]+1],[x[0]-1,x[1]-1]]\n",
        "      p.append(v)\n",
        "    if x[0]>=1:\n",
        "      v=[[z[0][0]+1,z[0][1]],[x[0]-1,x[1]]]\n",
        "      p.append(v)\n",
        "    if x[1]>=1:\n",
        "      v=[[z[0][0],z[0][1]+1],[x[0],x[1]-1]]\n",
        "      p.append(v)\n",
        "  return accept(p)"
      ],
      "metadata": {
        "id": "uSmrii8FSjqY"
      },
      "execution_count": null,
      "outputs": []
    },
    {
      "cell_type": "code",
      "source": [
        "def MandC():\n",
        "  f=[{0:[[3,3],[0,0]]}]\n",
        "  v=[{0:[[3,3],[0,0]]}]\n",
        "  parent=[-1]\n",
        "  z=f[0]\n",
        "  while 1:\n",
        "    k=list(z.keys())[0]\n",
        "    p=crossRiver(list(z.values())[0],k)\n",
        "    if k==0:\n",
        "      k=1\n",
        "    else:\n",
        "      k=0\n",
        "    for x in p:\n",
        "      c={k:x}\n",
        "      if c not in v:\n",
        "        f.append({k:x})\n",
        "        v.append({k:x})\n",
        "        parent.append(v.index(z))\n",
        "      if x==[[0,0],[3,3]]:\n",
        "        print(\"Goal reached\")\n",
        "        return v,parent\n",
        "    f.remove(z)\n",
        "    z=f[-1]"
      ],
      "metadata": {
        "id": "BD_k0l0pSmqR"
      },
      "execution_count": null,
      "outputs": []
    },
    {
      "cell_type": "code",
      "source": [
        "v,p=MandC()\n",
        "path=[v[-1]]\n",
        "u=p[-1]\n",
        "while 1:\n",
        "  path.insert(0,v[u])\n",
        "  u=p[u]\n",
        "  if u==-1:\n",
        "    break\n",
        "print(\"Intial state :\",path[0],\"Final state :\",path[-1])\n",
        "for i in range(1,len(path)):\n",
        "  if i%2!=0:\n",
        "    print(\"Left to Right : \",path[i-1][0],\"->\",path[i][1])\n",
        "  else:\n",
        "    print(\"Right to Left : \",path[i-1][1],\"->\",path[i][0])"
      ],
      "metadata": {
        "colab": {
          "base_uri": "https://localhost:8080/"
        },
        "id": "4C4y4czwSpoH",
        "outputId": "db55b2d1-6769-4db1-83f5-ed01c005ac90"
      },
      "execution_count": null,
      "outputs": [
        {
          "output_type": "stream",
          "name": "stdout",
          "text": [
            "Goal reached\n",
            "Intial state : {0: [[3, 3], [0, 0]]} Final state : {1: [[0, 0], [3, 3]]}\n",
            "Left to Right :  [[3, 3], [0, 0]] -> [[2, 2], [1, 1]]\n",
            "Right to Left :  [[2, 2], [1, 1]] -> [[3, 2], [0, 1]]\n",
            "Left to Right :  [[3, 2], [0, 1]] -> [[3, 0], [0, 3]]\n",
            "Right to Left :  [[3, 0], [0, 3]] -> [[3, 1], [0, 2]]\n",
            "Left to Right :  [[3, 1], [0, 2]] -> [[1, 1], [2, 2]]\n",
            "Right to Left :  [[1, 1], [2, 2]] -> [[2, 2], [1, 1]]\n",
            "Left to Right :  [[2, 2], [1, 1]] -> [[0, 2], [3, 1]]\n",
            "Right to Left :  [[0, 2], [3, 1]] -> [[0, 3], [3, 0]]\n",
            "Left to Right :  [[0, 3], [3, 0]] -> [[0, 1], [3, 2]]\n",
            "Right to Left :  [[0, 1], [3, 2]] -> [[0, 2], [3, 1]]\n",
            "Left to Right :  [[0, 2], [3, 1]] -> [[0, 0], [3, 3]]\n"
          ]
        }
      ]
    },
    {
      "cell_type": "markdown",
      "source": [
        "# Vacuum World using BFS"
      ],
      "metadata": {
        "id": "1e8ab3ZqjHs0"
      }
    },
    {
      "cell_type": "code",
      "source": [
        "def action(z):\n",
        "  child=[]\n",
        "  if z[0]=='L':\n",
        "    child.append(['R',z[1]])\n",
        "    child.append(['L',[0,z[1][1]]])\n",
        "  else:\n",
        "    child.append(['L',z[1]])\n",
        "    child.append(['R',[z[1][0],0]])\n",
        "  return child"
      ],
      "metadata": {
        "id": "HVnljvg5jMQx"
      },
      "execution_count": null,
      "outputs": []
    },
    {
      "cell_type": "code",
      "source": [
        "def vaccumWorld():\n",
        "  f=[['L',[1,1]]]\n",
        "  visited=[['L',[1,1]]]\n",
        "  z=f[0]\n",
        "  while 1:\n",
        "    child=action(z)\n",
        "    for x in child:\n",
        "      if x not in visited:\n",
        "        f.append(x)\n",
        "        visited.append(x)\n",
        "        if x==['L',[0,0]] or x==['R',[0,0]]:\n",
        "          print(\"Goal reached\")\n",
        "          return visited\n",
        "    f.remove(z)\n",
        "    z=f[0]"
      ],
      "metadata": {
        "id": "qVAUgo9tjbEg"
      },
      "execution_count": null,
      "outputs": []
    },
    {
      "cell_type": "code",
      "source": [
        "vaccumWorld()"
      ],
      "metadata": {
        "colab": {
          "base_uri": "https://localhost:8080/"
        },
        "id": "ZLo6r97TjdYL",
        "outputId": "04fd63b9-ca55-471f-e8ff-de19ba08b136"
      },
      "execution_count": null,
      "outputs": [
        {
          "output_type": "stream",
          "name": "stdout",
          "text": [
            "Goal reached\n"
          ]
        },
        {
          "output_type": "execute_result",
          "data": {
            "text/plain": [
              "[['L', [1, 1]],\n",
              " ['R', [1, 1]],\n",
              " ['L', [0, 1]],\n",
              " ['R', [1, 0]],\n",
              " ['R', [0, 1]],\n",
              " ['L', [1, 0]],\n",
              " ['R', [0, 0]]]"
            ]
          },
          "metadata": {},
          "execution_count": 9
        }
      ]
    },
    {
      "cell_type": "markdown",
      "source": [
        "# Vaccum world using DFS"
      ],
      "metadata": {
        "id": "w4zuArq2jl-n"
      }
    },
    {
      "cell_type": "code",
      "source": [
        "def action(z):\n",
        "  child=[]\n",
        "  if z[0]=='L':\n",
        "    child.append(['R',z[1]])\n",
        "    child.append(['L',[0,z[1][1]]])\n",
        "  else:\n",
        "    child.append(['L',z[1]])\n",
        "    child.append(['R',[z[1][0],0]])\n",
        "  return child"
      ],
      "metadata": {
        "id": "xxkPMGPujfzR"
      },
      "execution_count": null,
      "outputs": []
    },
    {
      "cell_type": "code",
      "source": [
        "def vaccumWorld():\n",
        "  f=[['L',[1,1]]]\n",
        "  visited=[['L',[1,1]]]\n",
        "  z=f[0]\n",
        "  while 1:\n",
        "    child=action(z)\n",
        "    for x in child:\n",
        "      if x not in visited:\n",
        "        f.append(x)\n",
        "        visited.append(x)\n",
        "        if x==['L',[0,0]] or x==['R',[0,0]]:\n",
        "          print(\"Goal reached\")\n",
        "          return visited\n",
        "    f.remove(z)\n",
        "    z=f[-1]"
      ],
      "metadata": {
        "id": "-7d0z5mBjuog"
      },
      "execution_count": null,
      "outputs": []
    },
    {
      "cell_type": "code",
      "source": [
        "vaccumWorld()"
      ],
      "metadata": {
        "colab": {
          "base_uri": "https://localhost:8080/"
        },
        "id": "uk9zCGaYjwW-",
        "outputId": "3ddb710a-1191-4699-a124-f3c8148112d4"
      },
      "execution_count": null,
      "outputs": [
        {
          "output_type": "stream",
          "name": "stdout",
          "text": [
            "Goal reached\n"
          ]
        },
        {
          "output_type": "execute_result",
          "data": {
            "text/plain": [
              "[['L', [1, 1]], ['R', [1, 1]], ['L', [0, 1]], ['R', [0, 1]], ['R', [0, 0]]]"
            ]
          },
          "metadata": {},
          "execution_count": 12
        }
      ]
    },
    {
      "cell_type": "markdown",
      "source": [
        "#\tGreedy Best First Search"
      ],
      "metadata": {
        "id": "MhWEkUOQj25C"
      }
    },
    {
      "cell_type": "code",
      "source": [
        "import numpy as np\n",
        "import pandas as pd\n",
        "def greedybfs(a,hsld):\n",
        "  visited=[]\n",
        "  q=[]\n",
        "  path=[0 for j in range(len(a))]\n",
        "  i=int(input(\"Enter initial state\"))\n",
        "  o=int(input(\"Enter final state\"))\n",
        "  q.append(i)\n",
        "  while(True):\n",
        "    u=q.pop(0)\n",
        "    visited.append(u)\n",
        "    if(u==o):\n",
        "      print(\"goal reached\")\n",
        "      dp=[]\n",
        "      j=o\n",
        "      dp.append(o)\n",
        "      while(j!=i):\n",
        "            dp.append(path[j])\n",
        "            j=path[j]\n",
        "      path.append(i)\n",
        "      dp=dp[::-1]\n",
        "      return dp\n",
        "\n",
        "    for j in range(len(a)):\n",
        "      if a[u][j]!=0 and j not in visited:\n",
        "        q.append(j)\n",
        "        path[j]=u\n",
        "    sort(q,hsld)"
      ],
      "metadata": {
        "id": "8KLNv9ERjx3w"
      },
      "execution_count": null,
      "outputs": []
    },
    {
      "cell_type": "code",
      "source": [
        "def sort(q,hsld):\n",
        "  t=0\n",
        "  for i in range(len(q)):\n",
        "    for j in range(len(q)-i-1):\n",
        "      if hsld[q[j]]>hsld[q[j+1]]:\n",
        "        t=q[j]\n",
        "        q[j]=q[j+1]\n",
        "        q[j+1]=t"
      ],
      "metadata": {
        "id": "nNldZWB-j_Uq"
      },
      "execution_count": null,
      "outputs": []
    },
    {
      "cell_type": "code",
      "source": [
        "a=[[0,1,2,0,0,0,0,0,0,0],[1,0,0,7,9,5,0,0,0,0],[2,0,0,0,0,0,4,3,6,8],[0,7,0,0,0,0,0,0,0,0],[0,9,0,0,0,0,0,0,0,0],[0,5,0,0,0,0,0,0,0,0],[0,0,4,0,0,0,0,0,0,0],\n",
        "   [0,0,3,0,0,0,0,0,1,0],[0,0,6,0,0,0,0,1,0,0],[0,0,8,0,0,0,0,0,0,0]]\n",
        "hsld={0:8,1:10,2:4,3:15,4:14,6:7,5:12,7:2,8:0,9:11}\n",
        "greedybfs(a,hsld)"
      ],
      "metadata": {
        "colab": {
          "base_uri": "https://localhost:8080/"
        },
        "id": "sQbCAQzgkBME",
        "outputId": "c47f967f-c12e-4072-866f-5a49f5b97d6d"
      },
      "execution_count": null,
      "outputs": [
        {
          "output_type": "stream",
          "name": "stdout",
          "text": [
            "Enter initial state0\n",
            "Enter final state8\n",
            "goal reached\n"
          ]
        },
        {
          "output_type": "execute_result",
          "data": {
            "text/plain": [
              "[0, 2, 8]"
            ]
          },
          "metadata": {},
          "execution_count": 15
        }
      ]
    },
    {
      "cell_type": "markdown",
      "source": [
        "# A* algorithm"
      ],
      "metadata": {
        "id": "F1AqllfvkJ3f"
      }
    },
    {
      "cell_type": "code",
      "source": [
        "import numpy as np\n",
        "import pandas as pd\n",
        "def astar(a,hsld):\n",
        "  visited=[]\n",
        "  q=[]\n",
        "  dp=[]\n",
        "  path=[0 for j in range(len(a))]\n",
        "  i=int(input(\"Enter initial state\"))\n",
        "  o=int(input(\"Enter final state\"))\n",
        "  q.append(i)\n",
        "\n",
        "  cost=[0 for i in range(len(a))]\n",
        "  while(True):\n",
        "    u=q.pop(0)\n",
        "    visited.append(u)\n",
        "    if(u==o):\n",
        "      print(\"goal reached\")\n",
        "      #path(o,visited)\n",
        "      j=o\n",
        "      dp.append(o)\n",
        "      while(j!=i):\n",
        "            dp.append(path[j])\n",
        "            j=path[j]\n",
        "      path.append(i)\n",
        "      dp=dp[::-1]\n",
        "      return dp\n",
        "\n",
        "    for j in range(len(a)):\n",
        "      if a[u][j]!=0 and j not in visited:\n",
        "        q.append(j)\n",
        "        cost[j]=cost[u]+a[u][j]\n",
        "        path[j]=u\n",
        "\n",
        "    sort(q,hsld,cost)"
      ],
      "metadata": {
        "id": "XJ4TNWefkDCI"
      },
      "execution_count": null,
      "outputs": []
    },
    {
      "cell_type": "code",
      "source": [
        "def sort(q,hsld,cost):\n",
        "  t=0\n",
        "  for i in range(len(q)):\n",
        "    for j in range(len(q)-i-1):\n",
        "      if hsld[q[j]]+cost[q[j]]>hsld[q[j+1]]+cost[q[j+1]]:\n",
        "        t=q[j]\n",
        "        q[j]=q[j+1]\n",
        "        q[j+1]=t"
      ],
      "metadata": {
        "id": "ppDqfnXxkOqG"
      },
      "execution_count": null,
      "outputs": []
    },
    {
      "cell_type": "code",
      "source": [
        "a=[[0,1,2,0,0,0,0,0,0,0],[1,0,0,7,9,5,0,0,0,0],[2,0,0,0,0,0,4,3,6,8],[0,7,0,0,0,0,0,0,0,0],[0,9,0,0,0,0,0,0,0,0],[0,5,0,0,0,0,0,0,0,0],[0,0,4,0,0,0,0,0,0,0],\n",
        "   [0,0,3,0,0,0,0,0,1,0],[0,0,6,0,0,0,0,1,0,0],[0,0,8,0,0,0,0,0,0,0]]\n",
        "hsld={0:8,1:10,2:4,3:15,4:14,6:7,5:12,7:2,8:0,9:11}\n",
        "astar(a,hsld)"
      ],
      "metadata": {
        "colab": {
          "base_uri": "https://localhost:8080/"
        },
        "id": "1Kq7ritHkQaB",
        "outputId": "6ea6186c-2f9a-4856-99f3-813d67b70dec"
      },
      "execution_count": null,
      "outputs": [
        {
          "output_type": "stream",
          "name": "stdout",
          "text": [
            "Enter initial state0\n",
            "Enter final state8\n",
            "goal reached\n"
          ]
        },
        {
          "output_type": "execute_result",
          "data": {
            "text/plain": [
              "[0, 2, 7, 8]"
            ]
          },
          "metadata": {},
          "execution_count": 18
        }
      ]
    },
    {
      "cell_type": "markdown",
      "source": [
        "# 8 puzzle using A*"
      ],
      "metadata": {
        "id": "xy323tKZkUjW"
      }
    },
    {
      "cell_type": "code",
      "source": [
        "import numpy as np"
      ],
      "metadata": {
        "id": "QtxdZFiakSD3"
      },
      "execution_count": null,
      "outputs": []
    },
    {
      "cell_type": "code",
      "source": [
        "def index(z,i):\n",
        "  p=np.array(z)\n",
        "  l=list(np.where(np.array(z)==i))\n",
        "  return [l[0][0],l[1][0]]"
      ],
      "metadata": {
        "id": "yi5D7inDkh7H"
      },
      "execution_count": null,
      "outputs": []
    },
    {
      "cell_type": "code",
      "source": [
        "import copy\n",
        "def child(z,k):\n",
        "  l=[]\n",
        "  if (k[0]-1)>=0:\n",
        "    p=copy.deepcopy(z)\n",
        "    p[k[0]-1][k[1]],p[k[0]][k[1]]=p[k[0]][k[1]],p[k[0]-1][k[1]]\n",
        "    l.append(p)\n",
        "  if (k[0]+1)<len(z):\n",
        "    p=copy.deepcopy(z)\n",
        "    p[k[0]+1][k[1]],p[k[0]][k[1]]=p[k[0]][k[1]],p[k[0]+1][k[1]]\n",
        "    l.append(p)\n",
        "  if (k[1]-1)>=0:\n",
        "    p=copy.deepcopy(z)\n",
        "    p[k[0]][k[1]-1],p[k[0]][k[1]]=p[k[0]][k[1]],p[k[0]][k[1]-1]\n",
        "    l.append(p)\n",
        "  if (k[1]+1)<len(z):\n",
        "    p=copy.deepcopy(z)\n",
        "    p[k[0]][k[1]+1],p[k[0]][k[1]]=p[k[0]][k[1]],p[k[0]][k[1]+1]\n",
        "    l.append(p)\n",
        "  return l"
      ],
      "metadata": {
        "id": "yUprqCDCkjg5"
      },
      "execution_count": null,
      "outputs": []
    },
    {
      "cell_type": "code",
      "source": [
        "def hamDistance(current,g,goal):\n",
        "  k=0\n",
        "  for i in range(1,9):\n",
        "    p1=index(current,i)\n",
        "    p2=index(goal,i)\n",
        "    k+=abs(p1[0]-p2[0])+abs(p1[1]-p2[1])\n",
        "  k+=g\n",
        "  return k"
      ],
      "metadata": {
        "id": "KNi9aQ65klTn"
      },
      "execution_count": null,
      "outputs": []
    },
    {
      "cell_type": "code",
      "source": [
        "def calHeu(l,goal):\n",
        "  min=hamDistance(l[0][0],l[0][1],goal)\n",
        "  p=0\n",
        "  for i in range(1,len(l)):\n",
        "    k=hamDistance(l[i][0],l[i][1],goal)\n",
        "    if min>k:\n",
        "      min=k\n",
        "      p=i\n",
        "  return l[p]"
      ],
      "metadata": {
        "id": "M86QfB3Dkm7d"
      },
      "execution_count": null,
      "outputs": []
    },
    {
      "cell_type": "code",
      "source": [
        "def Puzzle8(intial,goal):\n",
        "  l=[[intial,0]]\n",
        "  v=[]\n",
        "  z=l[0]\n",
        "  while 1:\n",
        "    if(z[0]==goal):\n",
        "      v.append(z[0])\n",
        "      print(\"Goal reached\")\n",
        "      return v\n",
        "    k=index(z[0],0)\n",
        "    p=child(z[0],k)\n",
        "    for i in range(len(p)):\n",
        "      if p[i] not in v:\n",
        "        l.append([p[i],z[-1]+1])\n",
        "    l.remove(z)\n",
        "    v.append(z[0])\n",
        "    z=calHeu(l,goal)"
      ],
      "metadata": {
        "id": "9U77G30CkpEM"
      },
      "execution_count": null,
      "outputs": []
    },
    {
      "cell_type": "code",
      "source": [
        "intial=[[1,2,3],[5,6,0],[7,8,4]]\n",
        "goal=[[1,2,3],[5,8,6],[0,7,4]]"
      ],
      "metadata": {
        "id": "7GV3CgOlkrAn"
      },
      "execution_count": null,
      "outputs": []
    },
    {
      "cell_type": "code",
      "source": [
        "Puzzle8(intial,goal)"
      ],
      "metadata": {
        "colab": {
          "base_uri": "https://localhost:8080/"
        },
        "id": "fRM0K8Htks2L",
        "outputId": "b70b1d2c-491b-410a-c40f-09edfb1e8c44"
      },
      "execution_count": null,
      "outputs": [
        {
          "output_type": "stream",
          "name": "stdout",
          "text": [
            "Goal reached\n"
          ]
        },
        {
          "output_type": "execute_result",
          "data": {
            "text/plain": [
              "[[[1, 2, 3], [5, 6, 0], [7, 8, 4]],\n",
              " [[1, 2, 3], [5, 0, 6], [7, 8, 4]],\n",
              " [[1, 2, 3], [5, 8, 6], [7, 0, 4]],\n",
              " [[1, 2, 3], [5, 8, 6], [0, 7, 4]]]"
            ]
          },
          "metadata": {},
          "execution_count": 26
        }
      ]
    },
    {
      "cell_type": "code",
      "source": [
        "intial=[[1,2,3],[8,0,4],[7,6,5]]\n",
        "goal=[[2,8,1],[0,4,3],[7,6,5]]"
      ],
      "metadata": {
        "id": "AVhLTILcku2K"
      },
      "execution_count": null,
      "outputs": []
    },
    {
      "cell_type": "code",
      "source": [
        "Puzzle8(intial,goal)"
      ],
      "metadata": {
        "colab": {
          "base_uri": "https://localhost:8080/"
        },
        "id": "gu8DNz31kw-0",
        "outputId": "1e26a2e7-4f0b-405b-d036-085b0b398b91"
      },
      "execution_count": null,
      "outputs": [
        {
          "output_type": "stream",
          "name": "stdout",
          "text": [
            "Goal reached\n"
          ]
        },
        {
          "output_type": "execute_result",
          "data": {
            "text/plain": [
              "[[[1, 2, 3], [8, 0, 4], [7, 6, 5]],\n",
              " [[1, 2, 3], [0, 8, 4], [7, 6, 5]],\n",
              " [[1, 2, 3], [8, 4, 0], [7, 6, 5]],\n",
              " [[1, 2, 0], [8, 4, 3], [7, 6, 5]],\n",
              " [[1, 0, 3], [8, 2, 4], [7, 6, 5]],\n",
              " [[1, 2, 3], [8, 6, 4], [7, 0, 5]],\n",
              " [[0, 2, 3], [1, 8, 4], [7, 6, 5]],\n",
              " [[1, 2, 3], [7, 8, 4], [0, 6, 5]],\n",
              " [[1, 2, 3], [8, 4, 5], [7, 6, 0]],\n",
              " [[1, 0, 2], [8, 4, 3], [7, 6, 5]],\n",
              " [[0, 1, 3], [8, 2, 4], [7, 6, 5]],\n",
              " [[2, 0, 3], [1, 8, 4], [7, 6, 5]],\n",
              " [[0, 1, 2], [8, 4, 3], [7, 6, 5]],\n",
              " [[8, 1, 3], [0, 2, 4], [7, 6, 5]],\n",
              " [[2, 8, 3], [1, 0, 4], [7, 6, 5]],\n",
              " [[8, 1, 2], [0, 4, 3], [7, 6, 5]],\n",
              " [[8, 1, 3], [2, 0, 4], [7, 6, 5]],\n",
              " [[2, 8, 3], [0, 1, 4], [7, 6, 5]],\n",
              " [[2, 8, 3], [1, 4, 0], [7, 6, 5]],\n",
              " [[8, 1, 3], [2, 4, 0], [7, 6, 5]],\n",
              " [[2, 8, 0], [1, 4, 3], [7, 6, 5]],\n",
              " [[8, 1, 0], [2, 4, 3], [7, 6, 5]],\n",
              " [[8, 0, 1], [2, 4, 3], [7, 6, 5]],\n",
              " [[0, 8, 1], [2, 4, 3], [7, 6, 5]],\n",
              " [[2, 8, 1], [0, 4, 3], [7, 6, 5]]]"
            ]
          },
          "metadata": {},
          "execution_count": 28
        }
      ]
    },
    {
      "cell_type": "markdown",
      "source": [
        "# AO*"
      ],
      "metadata": {
        "id": "ju9xFuCYk1sE"
      }
    },
    {
      "cell_type": "code",
      "source": [
        "Conditions = {\n",
        " 'A': {'OR': ['B'], 'AND': ['C', 'D']},\n",
        " 'B': {'OR': ['E', 'F']},\n",
        " 'C': {'OR': ['G'], 'AND': ['H', 'I']},\n",
        " 'D': {'OR': ['J']},'E':7,'F':0,'G':2,'H':1,'I':2,'J':1}"
      ],
      "metadata": {
        "id": "WhyHmCH4kzK6"
      },
      "execution_count": null,
      "outputs": []
    },
    {
      "cell_type": "code",
      "source": [
        "def ao(Conditions,k,c,curdepth):\n",
        "  if curdepth==2:\n",
        "    return Conditions[k]\n",
        "  for i in Conditions[k]:\n",
        "    if i=='OR':\n",
        "      for j in Conditions[k][i]:\n",
        "        c=min(ao(Conditions,j,c,curdepth+1),c)\n",
        "    elif i=='AND':\n",
        "      p=0\n",
        "      for j in Conditions[k][i]:\n",
        "        p=p+ao(Conditions,j,c,curdepth+1)\n",
        "      c=min(p,c)\n",
        "  return c"
      ],
      "metadata": {
        "id": "A8wSp8ZrlNJE"
      },
      "execution_count": null,
      "outputs": []
    },
    {
      "cell_type": "code",
      "source": [
        "print(ao(Conditions,'A',1000,0))"
      ],
      "metadata": {
        "colab": {
          "base_uri": "https://localhost:8080/"
        },
        "id": "KzfpC4lllPTv",
        "outputId": "d1dba7c1-0bf3-4713-f582-256343b219b2"
      },
      "execution_count": null,
      "outputs": [
        {
          "output_type": "stream",
          "name": "stdout",
          "text": [
            "0\n"
          ]
        }
      ]
    },
    {
      "cell_type": "markdown",
      "source": [
        "# minmax"
      ],
      "metadata": {
        "id": "8tqRnyN1lZ0A"
      }
    },
    {
      "cell_type": "code",
      "source": [
        "n=int(input(\"no of utility values:\"))\n",
        "u=[int(x) for x in input().split(\" \")]\n",
        "print(\"the utility values are:\",u)"
      ],
      "metadata": {
        "colab": {
          "base_uri": "https://localhost:8080/"
        },
        "id": "ZdOX4yywlRLG",
        "outputId": "dc0d2d0a-927c-4326-f400-81ebaf163760"
      },
      "execution_count": null,
      "outputs": [
        {
          "output_type": "stream",
          "name": "stdout",
          "text": [
            "no of utility values:8\n",
            "-1 4 2 6 -3 -5 0 7\n",
            "the utility values are: [-1, 4, 2, 6, -3, -5, 0, 7]\n"
          ]
        }
      ]
    },
    {
      "cell_type": "code",
      "source": [
        "def minmax(index,curdepth,finaldepth,k,u):\n",
        "  if curdepth==finaldepth:\n",
        "    return u[index]\n",
        "  else:\n",
        "    if k:\n",
        "      return max(minmax(2*index,curdepth+1,finaldepth,False,u),minmax(2*index+1,curdepth+1,finaldepth,False,u))\n",
        "    else:\n",
        "      return min(minmax(2*index,curdepth+1,finaldepth,True,u),minmax(2*index+1,curdepth+1,finaldepth,True,u))\n"
      ],
      "metadata": {
        "id": "pqWpP3swlbqY"
      },
      "execution_count": null,
      "outputs": []
    },
    {
      "cell_type": "code",
      "source": [
        "import math\n",
        "h=math.log(n,2)\n",
        "print(\"the optimal value is:\",minmax(0,0,h,True,u))"
      ],
      "metadata": {
        "colab": {
          "base_uri": "https://localhost:8080/"
        },
        "id": "8zxp5LHiljDO",
        "outputId": "1d2a0081-326e-4aee-9d10-a9f9cdb4513d"
      },
      "execution_count": null,
      "outputs": [
        {
          "output_type": "stream",
          "name": "stdout",
          "text": [
            "the optimal value is: 4\n"
          ]
        }
      ]
    },
    {
      "cell_type": "markdown",
      "source": [
        "# Alpha beta"
      ],
      "metadata": {
        "id": "KoHTItLblltH"
      }
    },
    {
      "cell_type": "code",
      "source": [
        "import math\n",
        "n=int(input(\"enter no of utility values:\"))\n",
        "h=math.log(n,2)\n",
        "u=[int(x) for x in input().split(\" \")]\n",
        "print(\"the utility values are:\",u)"
      ],
      "metadata": {
        "colab": {
          "base_uri": "https://localhost:8080/"
        },
        "id": "MAFWdOtmlk3c",
        "outputId": "bd02bbcd-1791-4652-fdfa-125a98f0fc20"
      },
      "execution_count": null,
      "outputs": [
        {
          "output_type": "stream",
          "name": "stdout",
          "text": [
            "enter no of utility values:8\n",
            "2 3 5 9 0 1 7 5\n",
            "the utility values are: [2, 3, 5, 9, 0, 1, 7, 5]\n"
          ]
        }
      ]
    },
    {
      "cell_type": "code",
      "source": [
        "def alphabeta(index,curdepth,finaldepth,k,u,alpha,beta):\n",
        "  if curdepth==finaldepth:\n",
        "    return u[index]\n",
        "  else:\n",
        "    if k:\n",
        "      for i in range(0,2):\n",
        "        val=alphabeta(2*index+i,curdepth+1,finaldepth,False,u,alpha,beta)\n",
        "        alpha=max(alpha,val)\n",
        "        if alpha>=beta:\n",
        "          break\n",
        "      return alpha\n",
        "    else:\n",
        "      for i in range(0,2):\n",
        "        val=alphabeta(2*index+i,curdepth+1,finaldepth,True,u,alpha,beta)\n",
        "        beta=min(val,beta)\n",
        "        if alpha>=beta:\n",
        "          break\n",
        "      return beta"
      ],
      "metadata": {
        "id": "Bl-m2EVyltX0"
      },
      "execution_count": null,
      "outputs": []
    },
    {
      "cell_type": "code",
      "source": [
        "print(\"the optimal value is:\",alphabeta(0,0,h,True,u,-1000,1000))"
      ],
      "metadata": {
        "colab": {
          "base_uri": "https://localhost:8080/"
        },
        "id": "mq9uJW2KlyIt",
        "outputId": "6e61ef59-581a-46e3-9f13-070f106fc589"
      },
      "execution_count": null,
      "outputs": [
        {
          "output_type": "stream",
          "name": "stdout",
          "text": [
            "the optimal value is: 3\n"
          ]
        }
      ]
    },
    {
      "cell_type": "markdown",
      "source": [
        "# cryptarthimetic"
      ],
      "metadata": {
        "id": "4cQsLu75mt7h"
      }
    },
    {
      "cell_type": "code",
      "source": [
        "import itertools\n",
        "w1=input()\n",
        "w2=input()\n",
        "w3=input()"
      ],
      "metadata": {
        "id": "Q4SYELBrmwpq",
        "colab": {
          "base_uri": "https://localhost:8080/"
        },
        "outputId": "68cf93a3-07d5-4d4c-fc0c-fa17115f2684"
      },
      "execution_count": null,
      "outputs": [
        {
          "name": "stdout",
          "output_type": "stream",
          "text": [
            "send\n",
            "more\n",
            "money\n"
          ]
        }
      ]
    },
    {
      "cell_type": "code",
      "source": [
        "l=[]\n",
        "l.extend(list(set(w1)))\n",
        "l.extend(list(set(w2)))\n",
        "l.extend(list(set(w3)))\n",
        "l=list(set(l))\n",
        "l=tuple(l)"
      ],
      "metadata": {
        "id": "gcrBC3zPvRoo"
      },
      "execution_count": null,
      "outputs": []
    },
    {
      "cell_type": "code",
      "source": [
        "def val(w,d):\n",
        "  c=0\n",
        "  n=len(w)\n",
        "  for i in range(n):\n",
        "    c=c+10**(n-1)*d[w[i]]\n",
        "    n=n-1\n",
        "  return c"
      ],
      "metadata": {
        "id": "EWITT7H_vVtp"
      },
      "execution_count": null,
      "outputs": []
    },
    {
      "cell_type": "code",
      "source": [
        "digits=range(10)\n",
        "for j in itertools.permutations(digits,len(l)):\n",
        "  d=dict(zip(l,j))\n",
        "  if d[w1[0]]!=0 and d[w2[0]]!=0:\n",
        "    k1=val(w1,d)\n",
        "    k2=val(w2,d)\n",
        "    k3=val(w3,d)\n",
        "    if k1+k2==k3:\n",
        "      print(w1,k1)\n",
        "      print(w2,k2)\n",
        "      print(w3,k3)"
      ],
      "metadata": {
        "colab": {
          "base_uri": "https://localhost:8080/"
        },
        "id": "AQ-Ju9fNvW6w",
        "outputId": "b7478800-cf8f-4fb1-c909-29021fde9619"
      },
      "execution_count": null,
      "outputs": [
        {
          "output_type": "stream",
          "name": "stdout",
          "text": [
            "send 9567\n",
            "more 1085\n",
            "money 10652\n"
          ]
        }
      ]
    }
  ]
}