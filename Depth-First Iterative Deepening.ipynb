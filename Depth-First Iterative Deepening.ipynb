{
 "cells": [
  {
   "cell_type": "code",
   "execution_count": 1,
   "id": "dd7d63b2",
   "metadata": {},
   "outputs": [],
   "source": [
    "def iterativeDeep(graph,depth,goal):\n",
    "  if len(graph)<goal:\n",
    "    return -1\n",
    "  for i in range(depth):\n",
    "    l=BfsDfs(graph,i,goal)\n",
    "    if l[1]:\n",
    "      return l[0]\n",
    "  return -1"
   ]
  },
  {
   "cell_type": "code",
   "execution_count": 2,
   "id": "f8ad328f",
   "metadata": {},
   "outputs": [],
   "source": [
    "def BfsDfs(graph,i,goal):\n",
    "  j=0\n",
    "  frontier=[[1,j]]\n",
    "  visited=[]\n",
    "  z=frontier[0]\n",
    "  while(1):\n",
    "    if z[1]==i+1:\n",
    "      return visited,0\n",
    "    if z[0]==goal:\n",
    "      visited.append(z)\n",
    "      return visited,1\n",
    "    for k in range(len(graph[j])):\n",
    "      if graph[j][k]==1:\n",
    "        frontier.append([k+1,z[1]+1])\n",
    "    frontier.remove(z)\n",
    "    visited.append(z)\n",
    "    z=frontier[0]\n",
    "    j=frontier[0][0]-1"
   ]
  },
  {
   "cell_type": "code",
   "execution_count": 3,
   "id": "af1b583d",
   "metadata": {},
   "outputs": [
    {
     "name": "stdout",
     "output_type": "stream",
     "text": [
      "Goal state found at depth level  2\n",
      "Path  [[1, 0], [2, 1], [3, 1], [4, 2], [5, 2], [6, 2]]\n"
     ]
    }
   ],
   "source": [
    "graph=[[0,1,1,0,0,0,0],[0,0,0,1,1,0,0],[0,0,0,0,0,1,1],[0,0,0,0,0,0,0],[0,0,0,0,0,0,0],[0,0,0,0,0,0,0]]\n",
    "depth=3\n",
    "goal=6\n",
    "path=iterativeDeep(graph,depth,goal)\n",
    "if path==-1:\n",
    "  print(\"Not found\")\n",
    "else:\n",
    "  print(\"Goal state found at depth level \",path[-1][1])\n",
    "  print(\"Path \",path)"
   ]
  },
  {
   "cell_type": "code",
   "execution_count": 4,
   "id": "e45f4133",
   "metadata": {},
   "outputs": [
    {
     "name": "stdout",
     "output_type": "stream",
     "text": [
      "Goal state found at depth level  4\n",
      "Path  [[1, 0], [2, 1], [3, 1], [4, 1], [5, 2], [6, 2], [7, 2], [8, 2], [9, 3], [10, 3], [11, 3], [12, 3], [13, 3], [14, 3], [15, 4], [16, 4], [17, 4]]\n"
     ]
    }
   ],
   "source": [
    "graph=[[0, 1, 1, 1, 0, 0, 0, 0, 0, 0, 0, 0, 0, 0, 0, 0, 0, 0],\n",
    " [0, 0, 0, 0, 1, 1, 0, 0, 0, 0, 0, 0, 0, 0, 0, 0, 0, 0],\n",
    " [0, 0, 0, 0, 0, 0, 1, 0, 0, 0, 0, 0, 0, 0, 0, 0, 0, 0],\n",
    " [0, 0, 0, 0, 0, 0, 0, 1, 0, 0, 0, 0, 0, 0, 0, 0, 0, 0],\n",
    " [0, 0, 0, 0, 0, 0, 0, 0, 1, 0, 0, 0, 0, 0, 0, 0, 0, 0],\n",
    " [0, 0, 0, 0, 0, 0, 0, 0, 0, 1, 1, 0, 0, 0, 0, 0, 0, 0],\n",
    " [0, 0, 0, 0, 0, 0, 0, 0, 0, 0, 0, 1, 0, 0, 0, 0, 0, 0],\n",
    " [0, 0, 0, 0, 0, 0, 0, 0, 0, 0, 0, 0, 1, 1, 0, 0, 0, 0],\n",
    " [0, 0, 0, 0, 0, 0, 0, 0, 0, 0, 0, 0, 0, 0, 0, 0, 0, 0],\n",
    " [0, 0, 0, 0, 0, 0, 0, 0, 0, 0, 0, 0, 0, 0, 0, 0, 0, 0],\n",
    " [0, 0, 0, 0, 0, 0, 0, 0, 0, 0, 0, 0, 0, 0, 1, 1, 0, 0],\n",
    " [0, 0, 0, 0, 0, 0, 0, 0, 0, 0, 0, 0, 0, 0, 0, 0, 1, 0],\n",
    " [0, 0, 0, 0, 0, 0, 0, 0, 0, 0, 0, 0, 0, 0, 0, 0, 0, 0],\n",
    " [0, 0, 0, 0, 0, 0, 0, 0, 0, 0, 0, 0, 0, 0, 0, 0, 0, 1],\n",
    " [0, 0, 0, 0, 0, 0, 0, 0, 0, 0, 0, 0, 0, 0, 0, 0, 0, 0],\n",
    " [0, 0, 0, 0, 0, 0, 0, 0, 0, 0, 0, 0, 0, 0, 0, 0, 0, 0],\n",
    " [0, 0, 0, 0, 0, 0, 0, 0, 0, 0, 0, 0, 0, 0, 0, 0, 0, 0],\n",
    " [0, 0, 0, 0, 0, 0, 0, 0, 0, 0, 0, 0, 0, 0, 0, 0, 0, 0]]\n",
    "depth=5\n",
    "goal=17\n",
    "path=iterativeDeep(graph,depth,goal)\n",
    "if path==-1:\n",
    "  print(\"Not found\")\n",
    "else:\n",
    "  print(\"Goal state found at depth level \",path[-1][1])\n",
    "  print(\"Path \",path)"
   ]
  }
 ],
 "metadata": {
  "kernelspec": {
   "display_name": "Python 3 (ipykernel)",
   "language": "python",
   "name": "python3"
  },
  "language_info": {
   "codemirror_mode": {
    "name": "ipython",
    "version": 3
   },
   "file_extension": ".py",
   "mimetype": "text/x-python",
   "name": "python",
   "nbconvert_exporter": "python",
   "pygments_lexer": "ipython3",
   "version": "3.9.7"
  }
 },
 "nbformat": 4,
 "nbformat_minor": 5
}
