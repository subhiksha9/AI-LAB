{
 "cells": [
  {
   "cell_type": "code",
   "execution_count": 1,
   "id": "68a51ce1",
   "metadata": {},
   "outputs": [],
   "source": [
    "def accept(p):\n",
    "  i=0\n",
    "  while i<len(p):\n",
    "    bl=p[i][0]\n",
    "    br=p[i][1]\n",
    "    if (bl[0]<bl[1] and bl[0]!=0) or (br[0]<br[1] and br[0]!=0):\n",
    "      p.remove(p[i])\n",
    "    else:\n",
    "      i+=1\n",
    "  return p"
   ]
  },
  {
   "cell_type": "code",
   "execution_count": 2,
   "id": "c984c671",
   "metadata": {},
   "outputs": [],
   "source": [
    "def crossRiver(z,k):\n",
    "  x=z[k]\n",
    "  p=[]\n",
    "  if k==0:\n",
    "    if x[0]>=2:\n",
    "      v=[[x[0]-2,x[1]],[z[1][0]+2,z[1][1]]]\n",
    "      p.append(v)\n",
    "    if x[1]>=2:\n",
    "      v=[[x[0],x[1]-2],[z[1][0],z[1][1]+2]]\n",
    "      p.append(v)\n",
    "    if x[0]>=1 and x[1]>=1:\n",
    "      v=[[x[0]-1,x[1]-1],[z[1][0]+1,z[1][1]+1]]\n",
    "      p.append(v)\n",
    "    if x[0]>=1:\n",
    "      v=[[x[0]-1,x[1]],[z[1][0]+1,z[1][1]]]\n",
    "      p.append(v)\n",
    "    if x[1]>=1:\n",
    "      v=[[x[0],x[1]-1],[z[1][0],z[1][1]+1]]\n",
    "      p.append(v)\n",
    "  else:\n",
    "    if x[0]>=2:\n",
    "      v=[[z[0][0]+2,z[0][1]],[x[0]-2,x[1]]]\n",
    "      p.append(v)\n",
    "    if x[1]>=2:\n",
    "      v=[[z[0][0],z[0][1]+2],[x[0],x[1]-2]]\n",
    "      p.append(v)\n",
    "    if x[0]>=1 and x[1]>=1:\n",
    "      v=[[z[0][0]+1,z[0][1]+1],[x[0]-1,x[1]-1]]\n",
    "      p.append(v)\n",
    "    if x[0]>=1:\n",
    "      v=[[z[0][0]+1,z[0][1]],[x[0]-1,x[1]]]\n",
    "      p.append(v)\n",
    "    if x[1]>=1:\n",
    "      v=[[z[0][0],z[0][1]+1],[x[0],x[1]-1]]\n",
    "      p.append(v)\n",
    "  return accept(p)"
   ]
  },
  {
   "cell_type": "code",
   "execution_count": 3,
   "id": "4b7acaa5",
   "metadata": {},
   "outputs": [],
   "source": [
    "def MandC():\n",
    "  l=[[[3,3],[0,0],-1,0]]\n",
    "  m=l.copy()\n",
    "  z=l[0]\n",
    "  flag=0\n",
    "  while 1:\n",
    "    p=crossRiver(z,z[-1])\n",
    "    for i in range(len(p)):\n",
    "      if z[-1]==0:\n",
    "        p[i].extend([m.index(z),1])\n",
    "      else:\n",
    "        p[i].extend([m.index(z),0])\n",
    "      if p[i][:2]==[[0,0],[3,3]]:\n",
    "        m.extend(p[:i+1])\n",
    "        return m\n",
    "    l.extend(p)\n",
    "    m.extend(p)\n",
    "    l.remove(z)\n",
    "    z=l[0]"
   ]
  },
  {
   "cell_type": "code",
   "execution_count": 4,
   "id": "13ec980f",
   "metadata": {},
   "outputs": [
    {
     "name": "stdout",
     "output_type": "stream",
     "text": [
      "Intial : [[3, 3], [0, 0]]\n",
      "Left to Right : [[3, 1], [0, 2]]\n",
      "Right to left : [[3, 2], [0, 1]]\n",
      "Left to Right : [[3, 0], [0, 3]]\n",
      "Right to left : [[3, 1], [0, 2]]\n",
      "Left to Right : [[1, 1], [2, 2]]\n",
      "Right to left : [[2, 2], [1, 1]]\n",
      "Left to Right : [[0, 2], [3, 1]]\n",
      "Right to left : [[0, 3], [3, 0]]\n",
      "Left to Right : [[0, 1], [3, 2]]\n",
      "Right to left : [[1, 1], [2, 2]]\n",
      "Left to Right : [[0, 0], [3, 3]]\n"
     ]
    }
   ],
   "source": [
    "m=MandC()\n",
    "y=[]\n",
    "u=m[-1]\n",
    "while u[2]!=-1:\n",
    "  y.insert(0,u)\n",
    "  u=m[u[2]]\n",
    "print(\"Intial :\",m[0][:2])\n",
    "for x in y:\n",
    "  if x[-1]==1:\n",
    "    print(\"Left to Right :\",x[:2])\n",
    "  else:\n",
    "    print(\"Right to left :\",x[:2])"
   ]
  }
 ],
 "metadata": {
  "kernelspec": {
   "display_name": "Python 3 (ipykernel)",
   "language": "python",
   "name": "python3"
  },
  "language_info": {
   "codemirror_mode": {
    "name": "ipython",
    "version": 3
   },
   "file_extension": ".py",
   "mimetype": "text/x-python",
   "name": "python",
   "nbconvert_exporter": "python",
   "pygments_lexer": "ipython3",
   "version": "3.9.7"
  }
 },
 "nbformat": 4,
 "nbformat_minor": 5
}
