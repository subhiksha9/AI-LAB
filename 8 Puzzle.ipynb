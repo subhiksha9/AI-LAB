{
 "cells": [
  {
   "cell_type": "code",
   "execution_count": 1,
   "id": "e91b677d",
   "metadata": {},
   "outputs": [],
   "source": [
    "import numpy as np"
   ]
  },
  {
   "cell_type": "code",
   "execution_count": 2,
   "id": "e200b353",
   "metadata": {},
   "outputs": [],
   "source": [
    "intial=[[1,2,3],[5,6,0],[7,8,4]]\n",
    "goal=[[1,2,3],[5,8,6],[0,7,4]]"
   ]
  },
  {
   "cell_type": "code",
   "execution_count": 3,
   "id": "0eee50a9",
   "metadata": {},
   "outputs": [],
   "source": [
    "def index(z,i):\n",
    "  p=np.array(z)\n",
    "  l=list(np.where(np.array(z)==i))\n",
    "  return [l[0][0],l[1][0]]"
   ]
  },
  {
   "cell_type": "code",
   "execution_count": 4,
   "id": "23bf1506",
   "metadata": {},
   "outputs": [],
   "source": [
    "import copy\n",
    "def child(z,k):\n",
    "  l=[]\n",
    "  if (k[0]-1)>=0:\n",
    "    p=copy.deepcopy(z)\n",
    "    p[k[0]-1][k[1]],p[k[0]][k[1]]=p[k[0]][k[1]],p[k[0]-1][k[1]]\n",
    "    l.append(p)\n",
    "  if (k[0]+1)<len(z):\n",
    "    p=copy.deepcopy(z)\n",
    "    p[k[0]+1][k[1]],p[k[0]][k[1]]=p[k[0]][k[1]],p[k[0]+1][k[1]]\n",
    "    l.append(p)\n",
    "  if (k[1]-1)>=0:\n",
    "    p=copy.deepcopy(z)\n",
    "    p[k[0]][k[1]-1],p[k[0]][k[1]]=p[k[0]][k[1]],p[k[0]][k[1]-1]\n",
    "    l.append(p)\n",
    "  if (k[1]+1)<len(z):\n",
    "    p=copy.deepcopy(z)\n",
    "    p[k[0]][k[1]+1],p[k[0]][k[1]]=p[k[0]][k[1]],p[k[0]][k[1]+1]\n",
    "    l.append(p)\n",
    "  return l"
   ]
  },
  {
   "cell_type": "code",
   "execution_count": 5,
   "id": "a678a062",
   "metadata": {},
   "outputs": [],
   "source": [
    "def hamDistance(current,g,goal):\n",
    "  k=0\n",
    "  for i in range(1,9):\n",
    "    p1=index(current,i)\n",
    "    p2=index(goal,i)\n",
    "    k+=abs(p1[0]-p2[0])+abs(p1[1]-p2[1])\n",
    "  k+=g\n",
    "  return k"
   ]
  },
  {
   "cell_type": "code",
   "execution_count": 6,
   "id": "b2eaafe6",
   "metadata": {},
   "outputs": [],
   "source": [
    "def calHeu(l,goal):\n",
    "  min=hamDistance(l[0][0],l[0][1],goal)\n",
    "  p=0\n",
    "  for i in range(1,len(l)):\n",
    "    k=hamDistance(l[i][0],l[i][1],goal)\n",
    "    if min>k:\n",
    "      min=k\n",
    "      p=i\n",
    "  return l[p]"
   ]
  },
  {
   "cell_type": "code",
   "execution_count": 7,
   "id": "188129b0",
   "metadata": {},
   "outputs": [],
   "source": [
    "def Puzzle8(intial,goal):\n",
    "  l=[[intial,0]]\n",
    "  v=[]\n",
    "  z=l[0]\n",
    "  while 1:\n",
    "    if(z[0]==goal):\n",
    "      v.append(z[0])\n",
    "      print(\"Goal reached\")\n",
    "      return v\n",
    "    k=index(z[0],0)\n",
    "    p=child(z[0],k)\n",
    "    for i in range(len(p)):\n",
    "      if p[i] not in v:\n",
    "        l.append([p[i],z[-1]+1])\n",
    "    l.remove(z)\n",
    "    v.append(z[0])\n",
    "    z=calHeu(l,goal)"
   ]
  },
  {
   "cell_type": "code",
   "execution_count": 8,
   "id": "d6e4ad58",
   "metadata": {},
   "outputs": [
    {
     "name": "stdout",
     "output_type": "stream",
     "text": [
      "Goal reached\n"
     ]
    },
    {
     "data": {
      "text/plain": [
       "[[[1, 2, 3], [5, 6, 0], [7, 8, 4]],\n",
       " [[1, 2, 3], [5, 0, 6], [7, 8, 4]],\n",
       " [[1, 2, 3], [5, 8, 6], [7, 0, 4]],\n",
       " [[1, 2, 3], [5, 8, 6], [0, 7, 4]]]"
      ]
     },
     "execution_count": 8,
     "metadata": {},
     "output_type": "execute_result"
    }
   ],
   "source": [
    "Puzzle8(intial,goal)"
   ]
  },
  {
   "cell_type": "code",
   "execution_count": 9,
   "id": "b3aed95a",
   "metadata": {},
   "outputs": [],
   "source": [
    "intial=[[1,2,3],[8,0,4],[7,6,5]]\n",
    "goal=[[2,8,1],[0,4,3],[7,6,5]]"
   ]
  },
  {
   "cell_type": "code",
   "execution_count": 10,
   "id": "a483a350",
   "metadata": {},
   "outputs": [
    {
     "name": "stdout",
     "output_type": "stream",
     "text": [
      "Goal reached\n"
     ]
    },
    {
     "data": {
      "text/plain": [
       "[[[1, 2, 3], [8, 0, 4], [7, 6, 5]],\n",
       " [[1, 2, 3], [0, 8, 4], [7, 6, 5]],\n",
       " [[1, 2, 3], [8, 4, 0], [7, 6, 5]],\n",
       " [[1, 2, 0], [8, 4, 3], [7, 6, 5]],\n",
       " [[1, 0, 3], [8, 2, 4], [7, 6, 5]],\n",
       " [[1, 2, 3], [8, 6, 4], [7, 0, 5]],\n",
       " [[0, 2, 3], [1, 8, 4], [7, 6, 5]],\n",
       " [[1, 2, 3], [7, 8, 4], [0, 6, 5]],\n",
       " [[1, 2, 3], [8, 4, 5], [7, 6, 0]],\n",
       " [[1, 0, 2], [8, 4, 3], [7, 6, 5]],\n",
       " [[0, 1, 3], [8, 2, 4], [7, 6, 5]],\n",
       " [[2, 0, 3], [1, 8, 4], [7, 6, 5]],\n",
       " [[0, 1, 2], [8, 4, 3], [7, 6, 5]],\n",
       " [[8, 1, 3], [0, 2, 4], [7, 6, 5]],\n",
       " [[2, 8, 3], [1, 0, 4], [7, 6, 5]],\n",
       " [[8, 1, 2], [0, 4, 3], [7, 6, 5]],\n",
       " [[8, 1, 3], [2, 0, 4], [7, 6, 5]],\n",
       " [[2, 8, 3], [0, 1, 4], [7, 6, 5]],\n",
       " [[2, 8, 3], [1, 4, 0], [7, 6, 5]],\n",
       " [[8, 1, 3], [2, 4, 0], [7, 6, 5]],\n",
       " [[2, 8, 0], [1, 4, 3], [7, 6, 5]],\n",
       " [[8, 1, 0], [2, 4, 3], [7, 6, 5]],\n",
       " [[8, 0, 1], [2, 4, 3], [7, 6, 5]],\n",
       " [[0, 8, 1], [2, 4, 3], [7, 6, 5]],\n",
       " [[2, 8, 1], [0, 4, 3], [7, 6, 5]]]"
      ]
     },
     "execution_count": 10,
     "metadata": {},
     "output_type": "execute_result"
    }
   ],
   "source": [
    "Puzzle8(intial,goal)"
   ]
  }
 ],
 "metadata": {
  "kernelspec": {
   "display_name": "Python 3 (ipykernel)",
   "language": "python",
   "name": "python3"
  },
  "language_info": {
   "codemirror_mode": {
    "name": "ipython",
    "version": 3
   },
   "file_extension": ".py",
   "mimetype": "text/x-python",
   "name": "python",
   "nbconvert_exporter": "python",
   "pygments_lexer": "ipython3",
   "version": "3.9.7"
  }
 },
 "nbformat": 4,
 "nbformat_minor": 5
}
