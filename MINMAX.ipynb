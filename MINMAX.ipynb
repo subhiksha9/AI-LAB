{
 "cells": [
  {
   "cell_type": "code",
   "execution_count": 2,
   "id": "56064a9e",
   "metadata": {},
   "outputs": [],
   "source": [
    "def MinMax(g):\n",
    "  key=list(g.keys())[::-1]\n",
    "  for x in key:\n",
    "    k=g[x]\n",
    "    if type(k[0][0])==int:\n",
    "      if k[1]==0:\n",
    "        g[x]=min(k[0])\n",
    "      else:\n",
    "        g[x]=max(k[0])\n",
    "    else:\n",
    "      l=[]\n",
    "      for y in k[0]:\n",
    "        l.append(g[y])\n",
    "      if k[1]==0:\n",
    "        g[x]=min(l)\n",
    "      else:\n",
    "        g[x]=max(l)\n",
    "  return g"
   ]
  },
  {
   "cell_type": "code",
   "execution_count": 3,
   "id": "ad694379",
   "metadata": {},
   "outputs": [
    {
     "name": "stdout",
     "output_type": "stream",
     "text": [
      "{'A': 4, 'B': 4, 'C': -3, 'D': 4, 'E': 6, 'F': -3, 'G': 7, 'H': -1, 'I': 4, 'J': 2, 'K': 6, 'L': -3, 'M': -5, 'N': 0, 'O': 7}\n"
     ]
    }
   ],
   "source": [
    "graph={'A':[['B','C'],1],'B':[['D','E'],0],'C':[['F','G'],0],\n",
    "       'D':[['H','I'],1],'E':[['J','K'],1],'F':[['L','M'],1],'G':[['N','O'],1],\n",
    "       'H':[[-1],0],'I':[[4],0],'J':[[2],0],'K':[[6],0],'L':[[-3],0],'M':[[-5],0],'N':[[0],0],'O':[[7],0]}\n",
    "\n",
    "print(MinMax(graph))"
   ]
  }
 ],
 "metadata": {
  "kernelspec": {
   "display_name": "Python 3 (ipykernel)",
   "language": "python",
   "name": "python3"
  },
  "language_info": {
   "codemirror_mode": {
    "name": "ipython",
    "version": 3
   },
   "file_extension": ".py",
   "mimetype": "text/x-python",
   "name": "python",
   "nbconvert_exporter": "python",
   "pygments_lexer": "ipython3",
   "version": "3.9.7"
  }
 },
 "nbformat": 4,
 "nbformat_minor": 5
}
